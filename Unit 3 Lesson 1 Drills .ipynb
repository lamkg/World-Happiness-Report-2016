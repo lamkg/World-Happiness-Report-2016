{
 "cells": [
  {
   "cell_type": "markdown",
   "metadata": {},
   "source": [
    "Problem 1 \n",
    "    14 + 12 + 11 + 10 + 8 + 6 + 8 = 69 \n",
    "    mean = 69/7 = 9.857 \n",
    "    median = 10 \n",
    "    mode = 8 \n",
    "    14 - 9.857 = 4.143 ** 2 = 17.164/ 6 = 2.861\n",
    "    12 - 9.857 = 2.143 ** 2 = 4.592 / 6 = .7654\n",
    "    11 - 9.857 = 1.143 ** 2 = 1.306 / 6 = .2177\n",
    "    10 - 9.857 = 0.143 ** 2 = 0.0204 / 6 = .0034\n",
    "    8 - 9.857 = -1.857 ** 2 = 3.448 / 6 = .5747\n",
    "    6 - 9.857 = -3.857 ** 2 = 14.876 / 6 = 2.479\n",
    "    8 - 9.857 = -1.857 ** 2 = 3.448 / 6 = .5747\n",
    "    Variance = 2.861 + .7654 + .2177 + .0034 + .5747 + 2.479 + .5747 = 7.4759\n",
    "    standard deviation = 7.4759 ** 0.5 = 2.734\n",
    "    standard error = 2.734 / (7 ** 0.5) = 1.033\n",
    "    "
   ]
  },
  {
   "cell_type": "code",
   "execution_count": 4,
   "metadata": {},
   "outputs": [
    {
     "name": "stdout",
     "output_type": "stream",
     "text": [
      "mean:  9.857142857142858\n",
      "median:  10.0\n",
      "variance:  6.408163265306122\n",
      "standard deviation:  2.531435020952764\n",
      "standard error:  1.0334540197243194\n",
      "mode: 8\n"
     ]
    }
   ],
   "source": [
    "import numpy as np \n",
    "ages = [14, 12, 11, 10, 8, 6, 8]\n",
    "\n",
    "def summarystats(ages):\n",
    "    print('mean: ', np.mean(ages))\n",
    "    print('median: ', np.median(ages))\n",
    "    print('variance: ', np.var(ages))\n",
    "    print('standard deviation: ', np.std(ages))\n",
    "    print('standard error: ', np.std(ages)/np.sqrt(len(ages)-1))\n",
    "    \n",
    "summarystats(ages)\n",
    "print('mode: 8')    "
   ]
  },
  {
   "cell_type": "markdown",
   "metadata": {},
   "source": [
    "Problem 2 \n",
    "\n",
    "Because our data isn't skewed with extremely large or small numbers, using mean or median as a measure of central tendency is alright. I would pick the standard variation to describe the data since it lets me talk about the distribution of the data against the mean compared to the variance which only tells me about the data as a whole. "
   ]
  },
  {
   "cell_type": "markdown",
   "metadata": {},
   "source": [
    "Problem 3\n",
    "     14 + 12 + 11 + 10 + 8 + 7 + 8 = 70\n",
    "    mean = 70/7 = 10\n",
    "    median = 10 \n",
    "    mode = 8 \n",
    "    14 - 9.857 = 4.143 ** 2 = 17.164/ 6 = 2.861\n",
    "    12 - 9.857 = 2.143 ** 2 = 4.592 / 6 = .7654\n",
    "    11 - 9.857 = 1.143 ** 2 = 1.306 / 6 = .2177\n",
    "    10 - 9.857 = 0.143 ** 2 = 0.0204 / 6 = .0034\n",
    "    8 - 9.857 = -1.857 ** 2 = 3.448 / 6 = .5747\n",
    "    7 - 9.857 = -2.857 ** 2 = 8.162 / 6 = 1.360\n",
    "    8 - 9.857 = -1.857 ** 2 = 3.448 / 6 = .5747\n",
    "    Variance = 2.861 + .7654 + .2177 + .0034 + .5747 + 1.360 + .5747 = 6.3569\n",
    "    standard deviation = 6.3569 ** 0.5 = 2.521\n",
    "    standard error = 2.521 / (7 ** 0.5) = 0.952"
   ]
  },
  {
   "cell_type": "code",
   "execution_count": 5,
   "metadata": {},
   "outputs": [
    {
     "name": "stdout",
     "output_type": "stream",
     "text": [
      "mean:  10.0\n",
      "median:  10.0\n",
      "variance:  5.428571428571429\n",
      "standard deviation:  2.32992949004287\n",
      "standard error:  0.951189731211342\n",
      "mode: 8\n"
     ]
    }
   ],
   "source": [
    "import numpy as np \n",
    "ages = [14, 12, 11, 10, 8, 7, 8]\n",
    "\n",
    "def summarystats(ages):\n",
    "    print('mean: ', np.mean(ages))\n",
    "    print('median: ', np.median(ages))\n",
    "    print('variance: ', np.var(ages))\n",
    "    print('standard deviation: ', np.std(ages))\n",
    "    print('standard error: ', np.std(ages)/np.sqrt(len(ages)-1))\n",
    "    \n",
    "summarystats(ages)\n",
    "print('mode: 8') "
   ]
  },
  {
   "cell_type": "markdown",
   "metadata": {},
   "source": [
    "The mean is now equal to the median. The variance, standard deviation, and standard error all decreased compared to the respective data sets in problem 1. The mode and median are still the same. "
   ]
  },
  {
   "cell_type": "code",
   "execution_count": 6,
   "metadata": {},
   "outputs": [
    {
     "name": "stdout",
     "output_type": "stream",
     "text": [
      "mean:  8.857142857142858\n",
      "median:  10.0\n",
      "variance:  16.122448979591837\n",
      "standard deviation:  4.015276949301485\n",
      "standard error:  1.6392299502912864\n",
      "mode: 8\n"
     ]
    }
   ],
   "source": [
    "import numpy as np \n",
    "ages = [14, 12, 11, 10, 8, 6, 1]\n",
    "\n",
    "def summarystats(ages):\n",
    "    print('mean: ', np.mean(ages))\n",
    "    print('median: ', np.median(ages))\n",
    "    print('variance: ', np.var(ages))\n",
    "    print('standard deviation: ', np.std(ages))\n",
    "    print('standard error: ', np.std(ages)/np.sqrt(len(ages)-1))\n",
    "    \n",
    "summarystats(ages)\n",
    "print('mode: 8') "
   ]
  },
  {
   "cell_type": "markdown",
   "metadata": {},
   "source": [
    "Problem 4 \n",
    "The variance, standard deviation and standard error have all increased now due to the one year old. I would now use the median as the measure of central tendency due to the fact that the data set is more skewed now so mean can't tell us as much as compared to before. I would talk about variance since it doesn't have to relate back to the mean of the data set. "
   ]
  },
  {
   "cell_type": "markdown",
   "metadata": {},
   "source": [
    "Problem 5 \n",
    "\n",
    "Due to the fact that SciPhi Phanatic is a more targeted interest magazine, the percentage of the viewership is lower, skewing the mean in this data set. I would use the median which is 18.5%. Excluding the the SciPhi magazine and using the mean would tell us that viewership is 20%.\n"
   ]
  }
 ],
 "metadata": {
  "kernelspec": {
   "display_name": "Python 3",
   "language": "python",
   "name": "python3"
  },
  "language_info": {
   "codemirror_mode": {
    "name": "ipython",
    "version": 3
   },
   "file_extension": ".py",
   "mimetype": "text/x-python",
   "name": "python",
   "nbconvert_exporter": "python",
   "pygments_lexer": "ipython3",
   "version": "3.6.4"
  }
 },
 "nbformat": 4,
 "nbformat_minor": 2
}
